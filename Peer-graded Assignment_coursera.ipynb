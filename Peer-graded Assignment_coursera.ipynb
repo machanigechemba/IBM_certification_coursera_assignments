{
 "cells": [
  {
   "cell_type": "markdown",
   "id": "29f10ee3-026c-49da-ab0a-a320acce4fd2",
   "metadata": {},
   "source": [
    "**Peer graded assignment: week 6**"
   ]
  },
  {
   "cell_type": "markdown",
   "id": "d2fe6efd-10e5-4f66-a5a6-8759fb97a931",
   "metadata": {},
   "source": [
    "This notebook is about Tools for Data Science course. It is a peer-graded project in week 6"
   ]
  },
  {
   "cell_type": "markdown",
   "id": "3572b6d1-fc8d-4f28-84bb-240cb52ed840",
   "metadata": {},
   "source": [
    "data science languages are mainly:\n",
    "1. Python\n",
    "2. R\n",
    "3. SQL"
   ]
  },
  {
   "cell_type": "markdown",
   "id": "31bb6951-9433-429e-850d-acf910c41772",
   "metadata": {},
   "source": [
    "Data science libraries include:\n",
    "1. NumPy\n",
    "2. Pandas\n",
    "3. Matplotlib\n",
    "4. Seaborn\n",
    "5. SciPy\n",
    "6. dplyr\n",
    "7. stringr\n",
    "8. ggplot2"
   ]
  },
  {
   "cell_type": "markdown",
   "id": "2237f73f-e10b-4d9a-9acf-4e86a4b4a416",
   "metadata": {},
   "source": [
    "A table with data science tools"
   ]
  },
  {
   "cell_type": "markdown",
   "id": "398404fe-664a-458e-a273-e5d99494ec85",
   "metadata": {},
   "source": [
    "|Data Management Tools| Data Visualization Tools| Development Environments|\n",
    "|----| ----|----|\n",
    "|MySQL| Tableau| Jupyter notebook|\n",
    "|MongoDB| PowerBI| Rstudio|  \n",
    "|Apache Hadoop| Cognos Analytics|\n",
    "|......|.....|"
   ]
  },
  {
   "cell_type": "markdown",
   "id": "ac9b7683-c5e2-4aa1-9c29-7c095f93c129",
   "metadata": {},
   "source": [
    "Arithmetic expression examples\n",
    "\n",
    "Multiplication: 15 * 15 = 225.\r\n",
    "\n",
    "Divisio:. 225 / 5 = 45.\n",
    "\r\n",
    "Additi:n. 20 + 13 = 33\n",
    ".\r\n",
    "Subtract:on. 33 – 45 = -16 = 10."
   ]
  },
  {
   "cell_type": "code",
   "execution_count": 2,
   "id": "5eb76a2c-3927-416d-8b1e-5c5881f97a9a",
   "metadata": {},
   "outputs": [
    {
     "data": {
      "text/plain": [
       "25"
      ]
     },
     "execution_count": 2,
     "metadata": {},
     "output_type": "execute_result"
    }
   ],
   "source": [
    "#Addition \n",
    "5 + 5 \n",
    "\n",
    "#Multiplication. \n",
    "5 * 5 "
   ]
  },
  {
   "cell_type": "code",
   "execution_count": 3,
   "id": "b90fb2be-bcac-4296-b1cc-b9b020bcb32a",
   "metadata": {},
   "outputs": [
    {
     "data": {
      "text/plain": [
       "2.0"
      ]
     },
     "execution_count": 3,
     "metadata": {},
     "output_type": "execute_result"
    }
   ],
   "source": [
    "def min_to_hr (mins):\n",
    "    return mins / 60\n",
    "min_to_hr (120)"
   ]
  },
  {
   "cell_type": "markdown",
   "id": "c757df9d-afc1-4ace-9804-d3fd2f590e08",
   "metadata": {},
   "source": [
    "The objectives of this exercize were to\n",
    "1. Create a Jupyter Notebook with markdown and code cells\n",
    "2. List examples of languages, libraries and tools used in Data Science\n",
    "3. Share your Jupyter Notebook publicly on GitHub\n",
    "4. Evaluate notebooks submitted by your peers using the provided rubric\n",
    "5. Demonstrate proficiency in Data Science toolkit knowledge"
   ]
  },
  {
   "cell_type": "markdown",
   "id": "50c6b6b7-ed3b-4c20-aaec-036f43907032",
   "metadata": {},
   "source": [
    "author is frida"
   ]
  },
  {
   "cell_type": "code",
   "execution_count": null,
   "id": "a7d85792-2dd0-413d-b282-193cb6a390c5",
   "metadata": {},
   "outputs": [],
   "source": []
  }
 ],
 "metadata": {
  "kernelspec": {
   "display_name": "Python 3 (ipykernel)",
   "language": "python",
   "name": "python3"
  },
  "language_info": {
   "codemirror_mode": {
    "name": "ipython",
    "version": 3
   },
   "file_extension": ".py",
   "mimetype": "text/x-python",
   "name": "python",
   "nbconvert_exporter": "python",
   "pygments_lexer": "ipython3",
   "version": "3.11.5"
  }
 },
 "nbformat": 4,
 "nbformat_minor": 5
}
